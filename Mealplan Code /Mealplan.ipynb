{
  "nbformat": 4,
  "nbformat_minor": 0,
  "metadata": {
    "colab": {
      "provenance": [],
      "authorship_tag": "ABX9TyNfk7ska0FdOkbcCktDcQph",
      "include_colab_link": true
    },
    "kernelspec": {
      "name": "python3",
      "display_name": "Python 3"
    },
    "language_info": {
      "name": "python"
    }
  },
  "cells": [
    {
      "cell_type": "markdown",
      "metadata": {
        "id": "view-in-github",
        "colab_type": "text"
      },
      "source": [
        "<a href=\"https://colab.research.google.com/github/wale-eth/Data-Analysis-Projects/blob/main/Mealplan%20Code%20/Mealplan.ipynb\" target=\"_parent\"><img src=\"https://colab.research.google.com/assets/colab-badge.svg\" alt=\"Open In Colab\"/></a>"
      ]
    },
    {
      "cell_type": "code",
      "execution_count": 1,
      "metadata": {
        "colab": {
          "base_uri": "https://localhost:8080/"
        },
        "id": "WxaT_6WTVY0H",
        "outputId": "a3b714cf-27a2-411e-fd49-52612932393b"
      },
      "outputs": [
        {
          "output_type": "stream",
          "name": "stdout",
          "text": [
            "          Date                          Meal\n",
            "0   2023-01-14                   Jollof Rice\n",
            "2   2023-01-16                  Yam Porridge\n",
            "3   2023-01-17    Egusi Soup and Pounded Yam\n",
            "4   2023-01-18                Beans and Dodo\n",
            "5   2023-01-19  Vegetable/Afang Soup and Eba\n",
            "6   2023-01-20                        Nkwobi\n",
            "7   2023-01-21           White Rice and Stew\n",
            "9   2023-01-23      Indomie Noodles with Egg\n",
            "10  2023-01-24                    Peppersoup\n"
          ]
        }
      ],
      "source": [
        "from datetime import datetime, timedelta\n",
        "import pandas as pd\n",
        "\n",
        "# create a list of meals\n",
        "meals = [\n",
        "    \"Jollof Rice\", \"Ogbono Soup and Eba\", \"Yam Porridge\", \n",
        "    \"Egusi Soup and Pounded Yam\", \"Beans and Dodo\", \n",
        "    \"Vegetable/Afang Soup and Eba\", \"Nkwobi\", \"White Rice and Stew\", \n",
        "    \"Bread and Tea with Boiled Egg\", \"Indomie Noodles with Egg\", \n",
        "    \"Peppersoup\"\n",
        "]\n",
        "\n",
        "# create a list of dates\n",
        "date_today = datetime.now().date()\n",
        "tomorrow = date_today + timedelta(days=1)\n",
        "dates = [tomorrow + timedelta(days=i) for i in range(0, 30)]\n",
        "\n",
        "# create a dataframe\n",
        "df = pd.DataFrame(list(zip(dates, meals)), \n",
        "                  columns =['Date', 'Meal'])\n",
        "\n",
        "# filter out sundays\n",
        "df = df[df.apply(lambda x: x['Date'].weekday() != 6, axis=1)]\n",
        "\n",
        "print(df)\n"
      ]
    },
    {
      "cell_type": "code",
      "source": [
        "df.to_excel(\"MealPlan.xlsx\", index=False)"
      ],
      "metadata": {
        "id": "ux-qArh6Vk2H"
      },
      "execution_count": 3,
      "outputs": []
    },
    {
      "cell_type": "code",
      "source": [],
      "metadata": {
        "id": "2E8xx_T_V9Yr"
      },
      "execution_count": null,
      "outputs": []
    }
  ]
}